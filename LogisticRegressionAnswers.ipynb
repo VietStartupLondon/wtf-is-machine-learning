{
 "cells": [
  {
   "cell_type": "markdown",
   "metadata": {},
   "source": [
    "# Programming Exercise 2: Logistic Regression\n",
    "\n",
    "This notebook is based on the [Coursera Machine Learning](https://www.coursera.org/learn/machine-learning) course by Andrew Ng. We believe it is the best course for people who are keen to make their first steps in Machine Learning.\n",
    "\n",
    "The course is taught in Octave / MATLAB, but Python is much more broadly used in the industry and academia. We have used and modified a Python implementation from [David Kaleko](https://github.com/kaleko). \n",
    "\n",
    "Explanations of the model, and any mistakes herein, are of our own doing. If you're unsure about anything, feel free to ask us during the session!\n",
    "\n",
    "**Instructions:**\n",
    "- You can run the notebook at your own pace\n",
    "- This note book already have evreything filled in. You can just run all the cells if you are not confident in your coding skills, or if you are stuck at the other 2 notebooks and want a sneak peek.\n",
    "- Ask if you need help\n",
    "\n",
    "**You will learn to:**\n",
    "- Play with a toy dataset\n",
    "\n",
    "- Build one of the simplest machine learning algorithms for classification: Logistic regression\n",
    "\n",
    "- Apply logistic regression on the toy dataset to predict\n",
    "    \n",
    "- Learn how it works and potential caveats"
   ]
  },
  {
   "cell_type": "markdown",
   "metadata": {},
   "source": [
    "## 1 Packages\n",
    "\n",
    "First, let's run the cell below to import all the packages that you will need during this assignment. "
   ]
  },
  {
   "cell_type": "code",
   "execution_count": 1,
   "metadata": {
    "collapsed": true
   },
   "outputs": [],
   "source": [
    "# the following line allows us to output plots in the notebook\n",
    "%matplotlib inline \n",
    "\n",
    "import scipy                      # fundamental package that contains all important mathematical functions\n",
    "import numpy as np                # fundamental package for scientific computing with Python\n",
    "import pandas as pd               # fundamental dataframe package to wrangle a dataset in tabular form\n",
    "import matplotlib.pyplot as plt   # famous library to plot graphs in Python"
   ]
  },
  {
   "cell_type": "markdown",
   "metadata": {},
   "source": [
    "## 2 Overview of the Dataset\n",
    "\n",
    "### 2.1 Problem Statement"
   ]
  },
  {
   "cell_type": "markdown",
   "metadata": {},
   "source": [
    "Recall that the task of supervised learning is to train a model to predict a label $y$ given an input $x = (x_1, x_2, \\dotsc, x_n)$ based a bunch of labelled examples $\\{(x^{(1)}, y^{(1)}), (x^{(2)}, y^{(2)}), \\dotsc, (x^{(m)}, y^{(m)})\\}$ which we call the **training data**.\n",
    "\n",
    "In binary classification, the label $y$ can take on two values: $0$ or $1$.\n",
    "$0$ represents the \"negative class\" and $1$ represents the \"positive class\".\n",
    "Given an input $x$ we would like to know which class it belongs to.\n",
    "Some examples logistic regression can be applied to are:\n",
    "- Given an email, predict whether it was \"spam\" or \"not spam\"\n",
    "- Given an online transaction, predict whether it was \"fraud\" or \"not fraud\"\n",
    "- Given a tumor data, predict whether it is \"malignant\" or \"benign\""
   ]
  },
  {
   "cell_type": "markdown",
   "metadata": {},
   "source": [
    "Suppose that you are the administrator of a university department and you want to determine each applicant’s chance of admission based on their results on two exams. You have historical data from previous applicants that you can use as a training set for logistic regression. For each training example, you have the applicant’s scores on two exams and the admissions decision.\n",
    "\n",
    "Let's get more familiar with the dataset. Load the data by running the following code."
   ]
  },
  {
   "cell_type": "code",
   "execution_count": 2,
   "metadata": {},
   "outputs": [
    {
     "data": {
      "text/html": [
       "<div>\n",
       "<style>\n",
       "    .dataframe thead tr:only-child th {\n",
       "        text-align: right;\n",
       "    }\n",
       "\n",
       "    .dataframe thead th {\n",
       "        text-align: left;\n",
       "    }\n",
       "\n",
       "    .dataframe tbody tr th {\n",
       "        vertical-align: top;\n",
       "    }\n",
       "</style>\n",
       "<table border=\"1\" class=\"dataframe\">\n",
       "  <thead>\n",
       "    <tr style=\"text-align: right;\">\n",
       "      <th></th>\n",
       "      <th>Exam1_score</th>\n",
       "      <th>Exam2_score</th>\n",
       "      <th>Admitted</th>\n",
       "    </tr>\n",
       "  </thead>\n",
       "  <tbody>\n",
       "    <tr>\n",
       "      <th>0</th>\n",
       "      <td>3.462366</td>\n",
       "      <td>7.802469</td>\n",
       "      <td>0</td>\n",
       "    </tr>\n",
       "    <tr>\n",
       "      <th>1</th>\n",
       "      <td>3.028671</td>\n",
       "      <td>4.389500</td>\n",
       "      <td>0</td>\n",
       "    </tr>\n",
       "    <tr>\n",
       "      <th>2</th>\n",
       "      <td>3.584741</td>\n",
       "      <td>7.290220</td>\n",
       "      <td>0</td>\n",
       "    </tr>\n",
       "    <tr>\n",
       "      <th>3</th>\n",
       "      <td>6.018260</td>\n",
       "      <td>8.630855</td>\n",
       "      <td>1</td>\n",
       "    </tr>\n",
       "    <tr>\n",
       "      <th>4</th>\n",
       "      <td>7.903274</td>\n",
       "      <td>7.534438</td>\n",
       "      <td>1</td>\n",
       "    </tr>\n",
       "  </tbody>\n",
       "</table>\n",
       "</div>"
      ],
      "text/plain": [
       "   Exam1_score  Exam2_score  Admitted\n",
       "0     3.462366     7.802469         0\n",
       "1     3.028671     4.389500         0\n",
       "2     3.584741     7.290220         0\n",
       "3     6.018260     8.630855         1\n",
       "4     7.903274     7.534438         1"
      ]
     },
     "execution_count": 2,
     "metadata": {},
     "output_type": "execute_result"
    }
   ],
   "source": [
    "data = pd.read_csv('data/exam_data.txt', sep = ',', header=None)\n",
    "data.columns = ['Exam1_score', 'Exam2_score', 'Admitted']\n",
    "\n",
    "# This is the code to display the top samples in the dataset. You can change number to choose how many to display \n",
    "data.head(5)"
   ]
  },
  {
   "cell_type": "markdown",
   "metadata": {},
   "source": [
    "### 2.2 Data Visualization"
   ]
  },
  {
   "cell_type": "code",
   "execution_count": 3,
   "metadata": {
    "scrolled": false
   },
   "outputs": [
    {
     "data": {
      "image/png": "[encoded data removed]",
      "text/plain": [
       "<matplotlib.figure.Figure at 0x9bde208>"
      ]
     },
     "metadata": {},
     "output_type": "display_data"
    }
   ],
   "source": [
    "# save the code of plotting into a function for faster plotting later\n",
    "def plot_data(): \n",
    "    fig, ax = plt.subplots(1, 1, figsize = [8, 6])\n",
    "    # draw\n",
    "    ax.scatter(data.Exam1_score[data.Admitted == 0], data.Exam2_score[data.Admitted == 0], color='#FF5733', marker = 'x',\n",
    "                            alpha=0.85, label='Not admitted')\n",
    "    ax.scatter(data.Exam1_score[data.Admitted == 1], data.Exam2_score[data.Admitted == 1], color='#49FF33', marker = 'o',\n",
    "                            alpha=0.85, label='Admitted')\n",
    "    ax.set_xlabel('Exam 1 score')\n",
    "    ax.set_ylabel('Exam 2 score')\n",
    "    ax.set_title('Scatter plot')\n",
    "    ax.legend()\n",
    "    \n",
    "plot_data()"
   ]
  },
  {
   "cell_type": "code",
   "execution_count": 4,
   "metadata": {},
   "outputs": [
    {
     "name": "stdout",
     "output_type": "stream",
     "text": [
      "Shape of matrix X is (100, 2).\n",
      "X has 100 samples.\n",
      "X has 2 features.\n",
      "Shape of vector y is (100, 1).\n"
     ]
    }
   ],
   "source": [
    "# Separating X and y. Just run this cell\n",
    "X = data[['Exam1_score', 'Exam2_score']].values\n",
    "y = data['Admitted'].values\n",
    "\n",
    "print('Shape of matrix X is {}.'.format(X.shape))\n",
    "print('X has {} samples.'.format(X.shape[0]))\n",
    "print('X has {} features.'.format(X.shape[1]))\n",
    "\n",
    "y = y.reshape(-1, 1)\n",
    "\n",
    "print('Shape of vector y is {}.'.format(y.shape))"
   ]
  },
  {
   "cell_type": "markdown",
   "metadata": {},
   "source": [
    "Remember from the linreg exercise and the sides, that in order to neatly calculate $\\theta_0$ into $\\theta$, we add a column of 1s to the left of $X$, to be feature $x_0$? We do it with the following code:"
   ]
  },
  {
   "cell_type": "code",
   "execution_count": 5,
   "metadata": {
    "collapsed": true
   },
   "outputs": [],
   "source": [
    "# Don't forget to run this cell\n",
    "X = np.insert(X, 0, 1, axis=1)"
   ]
  },
  {
   "cell_type": "markdown",
   "metadata": {},
   "source": [
    "So now, technically, we can say $X$ has 3 features."
   ]
  },
  {
   "cell_type": "markdown",
   "metadata": {},
   "source": [
    "## 3 Logistic Regression\n",
    "\n",
    "Recall that in linear regression, we had a hypothesis $h_{\\theta}(x)$ which allowed us to predict any number.\n",
    "In binary classification, we would like to predict either $0$ or $1$.\n",
    "For this purpose we will design a function $h_{\\theta}(x)$ which will output a number from $0$ to $1$:\n",
    "- if $h_{\\theta}(x) \\geq 0.5$, predict \"$y = 1$\",\n",
    "- if $h_{\\theta}(x) < 0.5$, predict \"$y = 0$\"."
   ]
  },
  {
   "cell_type": "markdown",
   "metadata": {
    "collapsed": true
   },
   "source": [
    "*Quick summary of how we will do logistic regression from slides, step by step:*\n",
    "\n",
    "- We initialize the parameters ($\\theta$)\n",
    "\n",
    "- Use them to calculate the Cost\n",
    "\n",
    "- Calculate the gradient\n",
    " \n",
    "- Use the gradient to update parameters in order to reduce the cost\n",
    "\n",
    "- Keep doing it a lot of times (maybe 10000 times), to obtain the \"optimal\" theta."
   ]
  },
  {
   "cell_type": "markdown",
   "metadata": {},
   "source": [
    "### 3.1 Sigmoid function\n",
    "\n",
    "We first implement the \"sigmoid function\" that we will use later.\n",
    "It takes in a number and squishes it to be between $0$ and $1$.\n",
    "The sigmoid function has the following form:\n",
    "$$ \\mathrm{sigmoid}(z)=\\frac{1}{1+e^{−z}} $$"
   ]
  },
  {
   "cell_type": "code",
   "execution_count": 6,
   "metadata": {
    "collapsed": true
   },
   "outputs": [],
   "source": [
    "def sigmoid(z):\n",
    "    return 1 / (1 + np.exp(-z))"
   ]
  },
  {
   "cell_type": "code",
   "execution_count": null,
   "metadata": {
    "collapsed": true
   },
   "outputs": [],
   "source": [
    "# Just run this cell. It will plot the function\n",
    "z = np.arange(-10, 10, 0.1)\n",
    "fig, ax = plt.subplots(1, 1)\n",
    "ax.plot(z, sigmoid(z))\n",
    "ax.set_xlabel('$z$')\n",
    "ax.set_ylabel('sigmoid($z$)')\n",
    "ax.set_title('Sigmoid Function')\n",
    "ax.grid()"
   ]
  },
  {
   "cell_type": "code",
   "execution_count": 8,
   "metadata": {},
   "outputs": [
    {
     "data": {
      "image/png": "[encoded data removed]",
      "text/plain": [
       "<matplotlib.figure.Figure at 0x10f12fc50>"
      ]
     },
     "metadata": {},
     "output_type": "display_data"
    }
   ],
   "source": [
    "# Here is how it should looks like if you got that correctly. Do not run this cell"
   ]
  },
  {
   "cell_type": "code",
   "execution_count": 7,
   "metadata": {
    "collapsed": true
   },
   "outputs": [],
   "source": [
    "# Although, as a matter of fact, we can import the sigmoid function from scipy for better application later. \n",
    "# Just run this cell\n",
    "from scipy.special import expit as sigmoid"
   ]
  },
  {
   "cell_type": "markdown",
   "metadata": {},
   "source": [
    "*The maths below were already covered in the slides, but we repeat them here to help you review*"
   ]
  },
  {
   "cell_type": "markdown",
   "metadata": {},
   "source": [
    "### 3.2 Hypothesis Function\n",
    "\n",
    "Recall that in linear regression the output of the hypothesis function was $\\theta_0 + \\theta_1 x_1 + \\theta_2 x_2 + \\cdots + \\theta_n x_n$ where $x = (x_1, x_2, \\dotsc, x_n)$ is the input and $\\theta = (\\theta_0, \\theta_1, \\dotsc, \\theta_n)$ are the parameters.\n",
    "In logistic regression we slightly modify the hypothesis function to be\n",
    "\n",
    "\\begin{align}\n",
    "    z_{\\theta}(x) &= \\theta_0 + \\theta_1 x_1 + \\theta_2 x_2 + \\cdots + \\theta_n x_n = \\theta^T x && \\text{(linear function)}\\\\\n",
    "    h_{\\theta}(x) &= \\mathrm{sigmoid}(z_{\\theta}(x)) = \\mathrm{sigmoid}(\\theta^T x) && \\text{(using vector notation)} \\\\\n",
    "    &= \\frac{1}{1 + e^{-\\theta^T x}}. && \\text{(using the definition of the sigmoid function)}\n",
    "\\end{align}\n",
    "\n",
    "Since a sigmoid is a function whose output is between $0$ and $1$, $h_{\\theta}(x)$ will also output a number between $0$ and $1$ for a given input $x$.\n",
    "We can interpret the output of the hypothesis function $h_{\\theta}(x)$ to be the probability that $y = 1$ given $x$."
   ]
  },
  {
   "cell_type": "markdown",
   "metadata": {},
   "source": [
    "### 3.3 Cost Function\n",
    "\n",
    "Recall that in linear regression, the cost function was $J(\\theta) = \\frac{1}{m} \\sum_{i = 1}^m \\left(\\frac{1}{2} (h_{\\theta}(x^{(i)}) - y^{(i)})^2\\right)$.\n",
    "We can think of the term $\\frac{1}{2} (h_{\\theta}(x^{(i)}) - y^{(i)})^2$ as a measure of how close $h_{\\theta}(x^{(i)})$ is to $y^{(i)}$.\n",
    "This works well for linear regression where both $h_{\\theta}(x^{(i)})$ and $y^{(i)}$ can be any numbers.\n",
    "\n",
    "In logistic regression where $h_{\\theta}(x^{(i)})$ is between $0$ and $1$ and $y^{(i)}$ can be either $0$ or $1$, this doesn't work very well.\n",
    "In general, we need to come up with a function $\\mathrm{cost}(h_{\\theta}(x), y)$ that somehow measures the \"closeness\" of $h_{\\theta}(x)$ to $y$.\n",
    "The cost function for logistic regression has the following form:\n",
    "\n",
    "\\begin{align}\n",
    "    \\mathrm{cost}(h_{\\theta}(x), y) &=\n",
    "        \\begin{cases}\n",
    "            -\\log (h_{\\theta}(x)) & \\text{if } y = 1 \\\\\n",
    "            -\\log (1 - h_{\\theta}(x)) & \\text{if } y = 0.\n",
    "        \\end{cases}\n",
    "\\end{align}\n",
    "\n",
    "This cost function has a desirable property that (you can check this for yourself!):\n",
    "- $\\mathrm{cost}(h_{\\theta}(x), y) = 0$ if $y = 1$ and $h_{\\theta}(x) = 1$,\n",
    "- $\\mathrm{cost}(h_{\\theta}(x), y) \\to \\infty$ if $y = 1$ and $h_{\\theta}(x) \\to 0$,\n",
    "- $\\mathrm{cost}(h_{\\theta}(x), y) = 0$ if $y = 0$ and $h_{\\theta}(x) = 0$, and\n",
    "- $\\mathrm{cost}(h_{\\theta}(x), y) \\to \\infty$ if $y = 0$ and $h_{\\theta}(x) \\to 1$.\n",
    "\n",
    "This means that an algorithm is penalised by $0$ if it gets the classification right, but by a very large cost if it gets it wrong."
   ]
  },
  {
   "cell_type": "markdown",
   "metadata": {},
   "source": [
    "### 3.4 Simplified Cost Function\n",
    "\n",
    "The cost function\n",
    "\\begin{align}\n",
    "    \\mathrm{cost}(h_{\\theta}(x), y) &=\n",
    "        \\begin{cases}\n",
    "            -\\log (h_{\\theta}(x)) & \\text{if } y = 1 \\\\\n",
    "            -\\log (1 - h_{\\theta}(x)) & \\text{if } y = 0\n",
    "        \\end{cases}\n",
    "\\end{align}\n",
    "is quite clunky to work with.\n",
    "\n",
    "It turns out that we can write it in one expression as\n",
    "\\begin{align}\n",
    "    \\mathrm{cost}(h_{\\theta}(x), y) &= -y \\log (h_{\\theta}(x)) - (1 - y) \\log (1 - h_{\\theta}(x)).\n",
    "\\end{align}\n",
    "\n",
    "Check for yourself that, as required:\n",
    "- if we substitute $y = 1$ to the simplified cost, we obtain $(-\\log (h_{\\theta}(x)))$ and\n",
    "- if we substitute $y = 0$ to the simplified cost, we obtain $(-\\log (1 - h_{\\theta}(x)))$.\n",
    "\n",
    "Hence, given the training data $\\{(x^{(1)}, y^{(1)}), (x^{(2)}, y^{(2)}), \\dotsc, (x^{(m)}, y^{(m)})\\}$, total cost is:\n",
    "\\begin{align}\n",
    "    J(\\theta) &= \\frac{1}{m} \\sum_{i = 1}^m \\mathrm{cost}(h_{\\theta}(x^{(i)}), y^{(i)}) \\\\\n",
    "    &= \\frac{1}{m} \\sum_{i = 1}^m \\left[ -y^{(i)} \\log (h_{\\theta}(x^{(i)})) - (1 - y^{(i)}) \\log (1 - h_{\\theta}(x^{(i)})) \\right]. && \\text{(use the simplified cost)}\n",
    "\\end{align}\n",
    "\n",
    "To find the parameters $\\theta$, we will minimize $J(\\theta)$ with respect to $\\theta$.\n",
    "\n",
    "After this optimization, to make a prediction given a new $x$, we evaluate\n",
    "\\begin{align}\n",
    "    h_{\\theta}(x) = \\frac{1}{1 + e^{-\\theta^T x}},\n",
    "\\end{align}\n",
    "and predict $y = 1$ if $h_{\\theta}(x) \\geq 0.5$ and predict $y = 0$ if $h_{\\theta}(x) < 0.5$.\n",
    "\n",
    "Your task now is to implement a function that returns $J(\\theta)$ given the training data $\\{(x^{(1)}, y^{(1)}), (x^{(2)}, y^{(2)}), \\dotsc, (x^{(m)}, y^{(m)})\\}$ in the form of a matrix $X$ and vector $y$ and the parameter vector $\\theta$:\n",
    "\\begin{align}\n",
    "    X &=\n",
    "        \\begin{bmatrix}\n",
    "            1 & x_1^{(1)} & x_2^{(1)} & \\cdots & x_n^{(1)} \\\\\n",
    "            1 & x_1^{(2)} & x_2^{(2)} & \\cdots & x_n^{(2)} \\\\\n",
    "            \\vdots & & \\ddots & & \\vdots \\\\\n",
    "            1 & x_1^{(m)} & x_2^{(m)} & \\cdots & x_n^{(m)} \\\\\n",
    "        \\end{bmatrix} &&\\text{and}\\\\\n",
    "    y &= \n",
    "        \\begin{bmatrix}\n",
    "            y^{(1)} \\\\\n",
    "            y^{(2)} \\\\\n",
    "            \\vdots \\\\\n",
    "            y^{(m)}\n",
    "        \\end{bmatrix},\n",
    "\\end{align}\n",
    "where $n$ is the number of features and $m$ is the number of examples."
   ]
  },
  {
   "cell_type": "code",
   "execution_count": 8,
   "metadata": {
    "collapsed": true
   },
   "outputs": [],
   "source": [
    "def calculate_cost(X, y, theta):\n",
    "    \"\"\"\n",
    "    Implement the cost function explained above.\n",
    "\n",
    "    Arguments:\n",
    "    X -- training data, of size (number of samples, number of features)\n",
    "    y -- true \"label\" vector, of size (number of samples, 1)\n",
    "    theta -- weights, of size (number of features, 1)\n",
    "\n",
    "    Return:\n",
    "    cost -- cost for logistic regression, a scalar\n",
    "    \"\"\"\n",
    "    m, n = X.shape          # m is number of samples, n is number of features\n",
    "    \n",
    "    Z = X @ theta           # linear function above. @ is a Python operator for matrix multiplication, \n",
    "                            # it behaves similar to np.matmul or np.dot with 2D arrays. A @ B is np.matmul(A,B)\n",
    "    H = sigmoid(Z)\n",
    "    \n",
    "    cost = -np.mean(y * np.log(H) + (1 - y) * np.log(1 - H))\n",
    "    \n",
    "    return cost"
   ]
  },
  {
   "cell_type": "code",
   "execution_count": null,
   "metadata": {
    "collapsed": true
   },
   "outputs": [],
   "source": [
    "# Run this cell and compared your output to the expected output\n",
    "theta = np.zeros((3, 1))    # initialize theta to be all 0s\n",
    "calculate_cost(X, y, theta)"
   ]
  },
  {
   "cell_type": "markdown",
   "metadata": {},
   "source": [
    "**Expected Output**: \n",
    "\n",
    "\n",
    "\n",
    "<table>\n",
    "  <tr>\n",
    "    <td>**Cost**</td>\n",
    "    <td> 0.69314718055994529</td> \n",
    "  </tr>\n",
    "</table>\n"
   ]
  },
  {
   "cell_type": "markdown",
   "metadata": {},
   "source": [
    "### 3.5 Gradient of the Cost Function\n",
    "\n",
    "In order to perform gradient descent on the total cost $J(\\theta)$ we need to calculate the partial derivatives of $J(\\theta)$ with respect to each $\\theta_j$.\n",
    "\n",
    "The derivative of the cost function turns out to be\n",
    "\\begin{align}\n",
    "    \\frac{\\partial J(\\theta)}{\\partial \\theta_j} = \\frac{1}{m} \\sum_{i = 1}^m (h_{\\theta}(x^{(i)}) - y^{(i)}) x_j^{(i)}.\n",
    "\\end{align}\n",
    "\n",
    "You can derive this for yourself but for now, just take this on trust.\n",
    "\n",
    "Given the vectorised representation of the training data, we can calculate all the partial derivatives at once.\n",
    "The resulting vector of partial derivatives is called the gradient of $J(\\theta)$ with respect to $\\theta$, denoted $\\nabla_{\\theta} J$:\n",
    "\\begin{align}\n",
    "    \\nabla_{\\theta} J =\n",
    "    \\begin{bmatrix}\n",
    "        \\frac{\\partial J(\\theta)}{\\partial \\theta_0} \\\\\n",
    "        \\frac{\\partial J(\\theta)}{\\partial \\theta_1} \\\\\n",
    "        \\vdots \\\\\n",
    "        \\frac{\\partial J(\\theta)}{\\partial \\theta_n}\n",
    "    \\end{bmatrix} =\n",
    "    \\frac{1}{m} X^T (H - y),\n",
    "\\end{align}\n",
    "where $H$ is a vector of the hypothesis outputs:\n",
    "\\begin{align}\n",
    "    H =\n",
    "    \\begin{bmatrix}\n",
    "        h_{\\theta}(x^{(1)}) \\\\\n",
    "        h_{\\theta}(x^{(2)}) \\\\\n",
    "        \\vdots \\\\\n",
    "        h_{\\theta}(x^{(m)})\n",
    "    \\end{bmatrix}.\n",
    "\\end{align}\n",
    "\n",
    "Your task now is to implement a function that takes in a matrix $X$, a vector $y$, and a vector $\\theta$ and returns the vector $\\nabla_{\\theta} J(\\theta)$."
   ]
  },
  {
   "cell_type": "code",
   "execution_count": 9,
   "metadata": {
    "collapsed": true
   },
   "outputs": [],
   "source": [
    "def calculate_gradient(X, y, theta):\n",
    "    \"\"\"\n",
    "    Implement the gradient function above.\n",
    "    \n",
    "    Arguments: same as calculate_cost function\n",
    "    \n",
    "    Return:\n",
    "    dtheta: a vector holding the gradient for all theta_j, of size (number of features, 1)\n",
    "    \"\"\"\n",
    "    m, n = X.shape\n",
    "    \n",
    "    Z = X @ theta\n",
    "    H = sigmoid(Z)\n",
    "    \n",
    "    dtheta = (1. / m) * X.T @ (H - y)\n",
    "    \n",
    "    assert dtheta.shape == (n, 1)\n",
    "    \n",
    "    return dtheta"
   ]
  },
  {
   "cell_type": "code",
   "execution_count": null,
   "metadata": {
    "collapsed": true
   },
   "outputs": [],
   "source": [
    "# Run this cell and compared your output to the expected output\n",
    "theta = np.zeros((3, 1))\n",
    "calculate_gradient(X, y, theta)"
   ]
  },
  {
   "cell_type": "markdown",
   "metadata": {},
   "source": [
    "**Expected Output**: \n",
    "\n",
    "\n",
    "\n",
    "<table>\n",
    "  <tr>\n",
    "    <td>**Gradients for theta**</td>\n",
    "    <td> -0.1 &emsp; -1.20092166 &emsp; -1.12628422</td> \n",
    "  </tr>\n",
    "</table>\n"
   ]
  },
  {
   "cell_type": "markdown",
   "metadata": {
    "collapsed": true
   },
   "source": [
    "### 3.6 Optimization of $J(\\theta)$\n",
    "\n",
    "We are now ready to perform gradient descent to minimize $J(\\theta)$ with respect to $\\theta$.\n",
    "The pseudocode for gradient is simply:\n",
    "- Initialize $\\theta$\n",
    "- Repeat until convergence:\n",
    "    - Update $\\theta_j = \\theta_j - \\alpha \\cdot \\frac{\\partial J(\\theta)}{\\partial \\theta_j}$ for all $\\theta_j$\n",
    "where $\\alpha$ is the learning rate.\n",
    "\n",
    "In the vectorized form, it would be:\n",
    "- Initialize $\\theta$\n",
    "- Repeat until convergence:\n",
    "    - Update $\\theta = \\theta - \\alpha \\cdot \\nabla_{\\theta} J(\\theta)$"
   ]
  },
  {
   "cell_type": "code",
   "execution_count": null,
   "metadata": {
    "collapsed": true
   },
   "outputs": [],
   "source": [
    "num_iterations = 10000\n",
    "learning_rate = 0.1\n",
    "theta = np.ones((3,1))\n",
    "cost_history = np.zeros(num_iterations)\n",
    "\n",
    "for i in range(num_iterations):\n",
    "    dtheta = calculate_gradient(X, y, theta)\n",
    "    theta = theta - learning_rate * dtheta\n",
    "    cost_history[i] = calculate_cost(X, y, theta)\n",
    "\n",
    "theta_optimal = theta.copy()    \n",
    "fig, ax = plt.subplots(1, 1)\n",
    "ax.set_xlabel('Gradient descent step')\n",
    "ax.set_ylabel('$J(\\\\theta)$')\n",
    "ax.grid(True)\n",
    "ax.plot(cost_history)\n",
    "plt.show()"
   ]
  },
  {
   "cell_type": "code",
   "execution_count": null,
   "metadata": {
    "collapsed": true
   },
   "outputs": [],
   "source": [
    "# Run this cell and compared your output to the expected output\n",
    "print('The final theta is: \\n {}'.format(theta_optimal))"
   ]
  },
  {
   "cell_type": "markdown",
   "metadata": {},
   "source": [
    "**Expected Output**: \n",
    "\n",
    "\n",
    "\n",
    "<table>\n",
    "  <tr>\n",
    "    <td>**Optimal theta**</td>\n",
    "    <td> -15.26656328 &emsp; 1.27230783 &emsp; 1.21435648</td> \n",
    "  </tr>\n",
    "</table>\n"
   ]
  },
  {
   "cell_type": "markdown",
   "metadata": {},
   "source": [
    "### 3.7 Make predictions"
   ]
  },
  {
   "cell_type": "code",
   "execution_count": 10,
   "metadata": {
    "collapsed": true
   },
   "outputs": [],
   "source": [
    "def predict(X, theta):\n",
    "    \"\"\"\n",
    "    Predict label of X using parameters theta.\n",
    "    \n",
    "    Return:\n",
    "    y_hat -- predicted value given X, of size (number of samples, 1)\n",
    "    \"\"\"\n",
    "    m, n = X.shape\n",
    "    Z = X @ theta                   \n",
    "    H = sigmoid(Z)\n",
    "    \n",
    "    y_hat = np.zeros((m, 1))\n",
    "    y_hat[H >= 0.5] = 1.\n",
    "    y_hat[H < 0.5] = 0.\n",
    "            \n",
    "    return y_hat"
   ]
  },
  {
   "cell_type": "code",
   "execution_count": null,
   "metadata": {
    "collapsed": true
   },
   "outputs": [],
   "source": [
    "# Run this cell and compared your output to the expected output\n",
    "train_accuracy = np.mean(1 - np.abs(predict(X, theta_optimal) - y))\n",
    "print('Train accuracy: {} %'.format(train_accuracy * 100))"
   ]
  },
  {
   "cell_type": "markdown",
   "metadata": {},
   "source": [
    "**Expected Output**: \n",
    "\n",
    "\n",
    "\n",
    "<table>\n",
    "  <tr>\n",
    "    <td>**Train accuracy**</td>\n",
    "    <td> 89% </td> \n",
    "  </tr>\n",
    "</table>\n"
   ]
  },
  {
   "cell_type": "markdown",
   "metadata": {},
   "source": [
    "### 3.8 Decision Boundary\n",
    "\n",
    "We can view the decision boundary at final $\\theta$."
   ]
  },
  {
   "cell_type": "code",
   "execution_count": 38,
   "metadata": {},
   "outputs": [
    {
     "data": {
      "image/png": "[encoded data removed]",
      "text/plain": [
       "<matplotlib.figure.Figure at 0xb956be0>"
      ]
     },
     "metadata": {},
     "output_type": "display_data"
    }
   ],
   "source": [
    "boundary_xs = np.array([np.min(X[:, 1]) - 0.2, np.max(X[:, 1]) + 0.2])\n",
    "boundary_ys = (-1. / theta_optimal[2]) * (theta_optimal[0] + theta_optimal[1] * boundary_xs)\n",
    "plot_data()\n",
    "plt.plot(boundary_xs, boundary_ys, 'b-', label='Decision Boundary')\n",
    "plt.legend()\n",
    "plt.show()"
   ]
  },
  {
   "cell_type": "markdown",
   "metadata": {},
   "source": [
    "## 4 Test Data and Generalization"
   ]
  },
  {
   "cell_type": "markdown",
   "metadata": {},
   "source": [
    "In Machine Learning, it is important to separate the training dataset and the test dataset. You want to fit a model on the training set and validate the performance on an untampered test set.\n",
    "\n",
    "Let's load the test dataset by running the cell below."
   ]
  },
  {
   "cell_type": "code",
   "execution_count": 11,
   "metadata": {
    "collapsed": true
   },
   "outputs": [],
   "source": [
    "testdata = pd.read_csv('data/exam_data_test.txt', sep = ',', header=None)\n",
    "testdata.columns = ['Exam1_score', 'Exam2_score', 'Admitted']\n",
    "\n",
    "X_test = testdata[['Exam1_score', 'Exam2_score']].values\n",
    "X_test = np.insert(X_test, 0, 1, axis=1)       # add column of 1s to the left\n",
    "y_test = testdata['Admitted'].values\n",
    "y_test = y_test.reshape(-1,1)"
   ]
  },
  {
   "cell_type": "code",
   "execution_count": 36,
   "metadata": {},
   "outputs": [
    {
     "name": "stdout",
     "output_type": "stream",
     "text": [
      "Test accuracy: 80.0 %\n"
     ]
    }
   ],
   "source": [
    "test_accuracy = np.mean(1 - np.abs(predict(X_test, theta_optimal) - y_test))\n",
    "print('Test accuracy: {} %'.format(test_accuracy * 100))"
   ]
  },
  {
   "cell_type": "markdown",
   "metadata": {},
   "source": [
    "**As you can see, the accuracy on test set is only 80%, much smaller compared to training accuracy of 89%.**\n",
    "\n",
    "This is the problem of generalization. It means that the algorithm is not able to reliably predict target values for previously unseen data. Generalization problem can be caused by several reasons:\n",
    "\n",
    "- The algorithm tries too hard to identify all the information in the training data, including the irrelevant part (called noise), and fail miserably with the new test data which also comes with its own noise. We also say that the algorithm fails to capure the true relationship in the data\n",
    "\n",
    "\n",
    "- The training data has other inherent bias or sample error, thus it doesn't represent the true nature of the problem\n",
    "\n",
    "\n",
    "- In Machine Learning, we implicitly assume a relationship between the input data and output. But in some cases, this might not be true\n",
    "\n",
    "\n",
    "To summarize:\n",
    "\n",
    "**A good Machine Learning model is not one that fits the training data perfectly, it is the one that performs well with unseen data.**"
   ]
  },
  {
   "cell_type": "markdown",
   "metadata": {},
   "source": [
    "To view the test data points on the plot:"
   ]
  },
  {
   "cell_type": "code",
   "execution_count": 49,
   "metadata": {},
   "outputs": [
    {
     "data": {
      "image/png": "[encoded data removed]",
      "text/plain": [
       "<matplotlib.figure.Figure at 0xb8f9860>"
      ]
     },
     "metadata": {},
     "output_type": "display_data"
    }
   ],
   "source": [
    "plot_data()\n",
    "plt.scatter(X_test[:,1][y_test[:, 0] == 0], X_test[:,2][y_test[:, 0] == 0], color='#8B0000', marker = 'x', s=70,\n",
    "                        alpha=1, label='Test not admitted')\n",
    "plt.scatter(X_test[:,1][y_test[:, 0] == 1], X_test[:,2][y_test[:, 0] == 1], color='#006400', marker = 'o', s=50,\n",
    "                        alpha=1, label='Test admitted')\n",
    "plt.plot(boundary_xs, boundary_ys, 'b-', label='Decision Boundary')\n",
    "plt.legend()\n",
    "plt.show()"
   ]
  },
  {
   "cell_type": "markdown",
   "metadata": {
    "collapsed": true
   },
   "source": [
    "## 5 Test Logistic Regression on the dating dataset"
   ]
  },
  {
   "cell_type": "markdown",
   "metadata": {},
   "source": [
    "*This part of the exercise is advanced, you can do it at your own discretion.*"
   ]
  },
  {
   "cell_type": "markdown",
   "metadata": {},
   "source": [
    "First, we load in the data, which is a cleaned, subset version of the dating dataset you are familiar with."
   ]
  },
  {
   "cell_type": "code",
   "execution_count": 12,
   "metadata": {},
   "outputs": [
    {
     "name": "stdout",
     "output_type": "stream",
     "text": [
      "Shape of matrix X_dating is (8390, 3).\n",
      "X_dating has 8390 samples.\n",
      "X_dating has 3 features.\n",
      "Shape of vector y_dating is (8390, 1).\n"
     ]
    }
   ],
   "source": [
    "dating_data = pd.read_csv('data/dating_data.csv', sep = ',', dtype='float')\n",
    "\n",
    "X_dating = dating_data[['age', 'height', 'income']].values\n",
    "y_dating = dating_data['status_after_a_month'].values\n",
    "\n",
    "print('Shape of matrix X_dating is {}.'.format(X_dating.shape))\n",
    "print('X_dating has {} samples.'.format(X_dating.shape[0]))\n",
    "print('X_dating has {} features.'.format(X_dating.shape[1]))\n",
    "\n",
    "y_dating = y_dating.reshape(-1, 1)\n",
    "\n",
    "print('Shape of vector y_dating is {}.'.format(y_dating.shape))"
   ]
  },
  {
   "cell_type": "code",
   "execution_count": 13,
   "metadata": {},
   "outputs": [
    {
     "data": {
      "text/html": [
       "<div>\n",
       "<style>\n",
       "    .dataframe thead tr:only-child th {\n",
       "        text-align: right;\n",
       "    }\n",
       "\n",
       "    .dataframe thead th {\n",
       "        text-align: left;\n",
       "    }\n",
       "\n",
       "    .dataframe tbody tr th {\n",
       "        vertical-align: top;\n",
       "    }\n",
       "</style>\n",
       "<table border=\"1\" class=\"dataframe\">\n",
       "  <thead>\n",
       "    <tr style=\"text-align: right;\">\n",
       "      <th></th>\n",
       "      <th>age</th>\n",
       "      <th>height</th>\n",
       "      <th>income</th>\n",
       "      <th>status_after_a_month</th>\n",
       "    </tr>\n",
       "  </thead>\n",
       "  <tbody>\n",
       "    <tr>\n",
       "      <th>0</th>\n",
       "      <td>35.0</td>\n",
       "      <td>70.0</td>\n",
       "      <td>80000.0</td>\n",
       "      <td>1.0</td>\n",
       "    </tr>\n",
       "    <tr>\n",
       "      <th>1</th>\n",
       "      <td>23.0</td>\n",
       "      <td>71.0</td>\n",
       "      <td>20000.0</td>\n",
       "      <td>1.0</td>\n",
       "    </tr>\n",
       "    <tr>\n",
       "      <th>2</th>\n",
       "      <td>28.0</td>\n",
       "      <td>72.0</td>\n",
       "      <td>40000.0</td>\n",
       "      <td>0.0</td>\n",
       "    </tr>\n",
       "    <tr>\n",
       "      <th>3</th>\n",
       "      <td>40.0</td>\n",
       "      <td>71.0</td>\n",
       "      <td>60000.0</td>\n",
       "      <td>1.0</td>\n",
       "    </tr>\n",
       "    <tr>\n",
       "      <th>4</th>\n",
       "      <td>22.0</td>\n",
       "      <td>65.0</td>\n",
       "      <td>20000.0</td>\n",
       "      <td>1.0</td>\n",
       "    </tr>\n",
       "  </tbody>\n",
       "</table>\n",
       "</div>"
      ],
      "text/plain": [
       "    age  height   income  status_after_a_month\n",
       "0  35.0    70.0  80000.0                   1.0\n",
       "1  23.0    71.0  20000.0                   1.0\n",
       "2  28.0    72.0  40000.0                   0.0\n",
       "3  40.0    71.0  60000.0                   1.0\n",
       "4  22.0    65.0  20000.0                   1.0"
      ]
     },
     "execution_count": 13,
     "metadata": {},
     "output_type": "execute_result"
    }
   ],
   "source": [
    "dating_data.head(5)"
   ]
  },
  {
   "cell_type": "markdown",
   "metadata": {},
   "source": [
    "We have 3 features: age, height, income that belong to a male person. The target variable is his status after a month. $0$ means no connection, $1$ means at least one connection.\n",
    "\n",
    "However, as you can see, the features are in different units, with different scale:\n",
    "\n",
    "- Age is between 18 and 69.\n",
    "\n",
    "- Height is in inches, between 53 (~140 cm) and 83 (~210 cm)\n",
    "\n",
    "- Income is in \\$, annual income, between \\$20,000 and \\$1,000,000.\n",
    "\n",
    "\n",
    "With feature 3 numerically very large compared to the other 2 features, $\\theta_3$ might be very small, as well as numerical instabilities might occur.\n",
    "\n",
    "Thus, we opt to **standardise** the data - scaling it so that each feature is skrunk down to a new set of numbers having mean of 0 and standard deviation of 1.\n",
    "\n",
    "For example, the range of income (20000, 1000000) becomes (-0.44352, 4.33322) instead. The mapping between feature j and the scaled feature j is retained, to transform it back or to transform new test data.\n",
    "\n",
    "We can achieve this with the following code:"
   ]
  },
  {
   "cell_type": "code",
   "execution_count": 15,
   "metadata": {
    "collapsed": true
   },
   "outputs": [],
   "source": [
    "# Just run this cell\n",
    "X_dating_mean = np.mean(X_dating, axis=0)    \n",
    "X_dating_std = np.std(X_dating, axis=0)       # calculating standard deviation\n",
    "X_dating_scaled = (X_dating - X_dating_mean) / X_dating_std\n",
    "\n",
    "X_dating_scaled = np.insert(X_dating_scaled, 0, 1, axis=1)"
   ]
  },
  {
   "cell_type": "markdown",
   "metadata": {},
   "source": [
    "Now we train a logistic regression model again."
   ]
  },
  {
   "cell_type": "code",
   "execution_count": 30,
   "metadata": {},
   "outputs": [
    {
     "data": {
      "image/png": "[encoded data removed]",
      "text/plain": [
       "<matplotlib.figure.Figure at 0xb43f780>"
      ]
     },
     "metadata": {},
     "output_type": "display_data"
    }
   ],
   "source": [
    "m, n = X_dating_scaled.shape\n",
    "num_iterations = 10000\n",
    "learning_rate = 0.1\n",
    "theta = np.ones((n,1))\n",
    "cost_history = np.zeros(num_iterations)\n",
    "\n",
    "for i in range(num_iterations):\n",
    "    dtheta = calculate_gradient(X_dating_scaled, y_dating, theta)\n",
    "    theta = theta - learning_rate * dtheta\n",
    "    cost_history[i] = calculate_cost(X_dating_scaled, y_dating, theta)\n",
    "\n",
    "theta_dating_optimal = theta.copy()    \n",
    "fig, ax = plt.subplots(1, 1)\n",
    "ax.set_xlabel('Gradient descent step')\n",
    "ax.set_ylabel('$J(\\\\theta)$')\n",
    "ax.grid(True)\n",
    "ax.plot(cost_history)\n",
    "plt.show()"
   ]
  },
  {
   "cell_type": "code",
   "execution_count": 34,
   "metadata": {},
   "outputs": [
    {
     "name": "stdout",
     "output_type": "stream",
     "text": [
      "The final theta is: \n",
      " [[ 3.10651144]\n",
      " [ 0.08243962]\n",
      " [-0.01192599]\n",
      " [ 0.10328468]]\n"
     ]
    }
   ],
   "source": [
    "print('The final theta is: \\n {}'.format(theta_dating_optimal))"
   ]
  },
  {
   "cell_type": "markdown",
   "metadata": {},
   "source": [
    "You can compared the theta we have with the coefficients from the morning session."
   ]
  },
  {
   "cell_type": "code",
   "execution_count": 33,
   "metadata": {},
   "outputs": [
    {
     "name": "stdout",
     "output_type": "stream",
     "text": [
      "Train accuracy: 95.68533969010727 %\n"
     ]
    }
   ],
   "source": [
    "train_accuracy = np.mean(1 - np.abs(predict(X_dating_scaled, theta_dating_optimal) - y_dating))\n",
    "print('Train accuracy: {} %'.format(train_accuracy * 100))"
   ]
  }
 ],
 "metadata": {
  "kernelspec": {
   "display_name": "Python 3",
   "language": "python",
   "name": "python3"
  },
  "language_info": {
   "codemirror_mode": {
    "name": "ipython",
    "version": 3
   },
   "file_extension": ".py",
   "mimetype": "text/x-python",
   "name": "python",
   "nbconvert_exporter": "python",
   "pygments_lexer": "ipython3",
   "version": "3.5.2"
  }
 },
 "nbformat": 4,
 "nbformat_minor": 2
}
